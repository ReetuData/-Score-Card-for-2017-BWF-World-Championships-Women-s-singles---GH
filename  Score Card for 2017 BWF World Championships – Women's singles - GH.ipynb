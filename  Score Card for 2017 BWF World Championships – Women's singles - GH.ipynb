{
 "cells": [
  {
   "cell_type": "markdown",
   "metadata": {},
   "source": [
    "# Score Card for 2017 BWF World Championships – Women's singles"
   ]
  },
  {
   "cell_type": "markdown",
   "metadata": {},
   "source": [
    "# Relevant rules of Badminton Championship to this project\n",
    "\n",
    "### What is a set?\n",
    "Each set is played to 21 points, with players scoring a point whenever they win a rally regardless of whether they served.\n",
    "<br>If the score reaches 20-all, then the set continues until one side gains a two-point lead (such as 24–22), except when there is a tie at 29-all, in which the set goes to a golden point. \n",
    "<br>Whoever scores this point will win.\n",
    "\n",
    "### What is a game ? \n",
    "A match or a game is the best of three sets.\n",
    "<br>Games or matches are best out of three: a player or pair must win two sets (of 21 points each) to win the match."
   ]
  },
  {
   "cell_type": "markdown",
   "metadata": {},
   "source": [
    "# Problem Statement\n",
    "\n",
    "You have to write a Python program that reads information about all the matches and compiles the following statistics for each player:\n",
    "\n",
    "Number of sets won \n",
    "<br>Number of games won \n",
    "<br>Number of sets lost \n",
    "<br>Number of games lost\n",
    "\n",
    "### Format of Input is \n",
    "<br>Winner:Loser:Set-1-score,...,Set-k-score, where k could be 2 or 3\n",
    "\n",
    "### Format of Output is \n",
    "\n",
    "Player1 : SW : Number of sets won GW : Number of games won SL : Number of sets lost GL : Number of games lost\n",
    "<br>.\n",
    "<br>.\n",
    "<br>.\n",
    "<br>.\n",
    "<br> Playern : SW : Number of sets won GW : Number of games won SL : Number of sets lost GL : Number of games lost\n",
    "\n",
    "Here, SW stands for Number of sets won\n",
    "<br>GW stands for Number of games won\n",
    "<br>SL stands for Number of sets lost\n",
    "<br>GL stands for Number of games lost.\n",
    "\n",
    "### For example:\n",
    "\n",
    "**Input:**\n",
    "\n",
    "T Lad:C Birch:17-21,21-10,21-19\n",
    "<br>T Lad:Sung J-h:21-9,21-19 \n",
    "\n",
    "**Explanation for input:**\n",
    "<br>T Lad beat C Birch 17-21,21-10,21-19 in the first match and then in the second one T Lad beat Sung J-h 21-9,21-19 \n",
    "\n",
    "**Output:**\n",
    "\n",
    "T Lad SW : 4, GW : 2, SL :  1, GL :  0\n",
    "<br>C Birch SW : 1, GW : 0, SL :  2, GL :  1\n",
    "<br>Sung J-h SW : 21, GW : 0, SL :  2, GL :  1\n",
    "\n",
    "**Explanation for output:**\n",
    "<br> T Lad has won 4 sets and 6 games and has lost 1 set and hasn't lost any game as we can see from the given results.\n",
    "<br> Similarly,C Birch has won 1 sets and no game and has lost 2 sets and lost 1 game as we can see from the given results.\n",
    "<br> Finally,Sung J-h has won 21 sets and no game and has lost 2 sets and lost 1 game as we can see from the given results.\n",
    "\n",
    "### Sample Test Case 1:\n",
    "\n",
    "Input:\n",
    "\n",
    "L Kjaersfeldt:M Ulitina:21-15,21-19\n",
    "<br>A Yamaguchi:L Kjaersfeldt:21-6,21-13\n",
    "<br>K Gilmour:R Das:21-16,21-13\n",
    "\n",
    "Output:\n",
    "\n",
    "L Kjaersfeldt : SW : 2, GW : 1, SL : 2, GL : 1\n",
    "<br>M Ulitina : SW : 0, GW : 0, SL : 2, GL : 1\n",
    "<br>A Yamaguchi : SW : 2, GW : 1, SL : 0, GL : 0\n",
    "<br>K Gilmour : SW : 2, GW : 1, SL : 0, GL : 0\n",
    "<br>R Das : SW : 0, GW : 0, SL : 2, GL : 1\n",
    "\n",
    "\n",
    "### Sample Test Case 2:\n",
    "\n",
    "Input:\n",
    "\n",
    "Sun Y:L A Mainaky:21-13,21-9\n",
    "<br>Sun Y:B Corrales:21-11,19-21,23-21\n",
    "<br>P. V. Sindhu:Sun Y:21-13,21-9\n",
    "<br>L A Mainaky:K Foo Kune:21-11,21-16\n",
    "\n",
    "Output:\n",
    "\n",
    "Sun Y : SW : 4, GW : 2, SL : 3, GL : 1\n",
    "<br>L A Mainaky : SW : 2, GW : 1, SL : 2, GL : 1\n",
    "<br>B Corrales : SW : 1, GW : 0, SL : 2, GL : 1 \n",
    "<br>P. V. Sindhu : SW : 2, GW :  1, SL : 0, GL : 0\n",
    "<br>K Foo Kune : SW : 0, GW :  0, SL : 2, GL : 1\n"
   ]
  },
  {
   "cell_type": "markdown",
   "metadata": {},
   "source": [
    "**Lets get started by defining our input as a list.**\n",
    "<br> Lets start with sample test case 3\n",
    "\n",
    "P. V. Sindhu:Kim H-m:21-16,21-14\n",
    "<br>P. V. Sindhu:Cheung N Y:19-21,23-21,21-17\n",
    "<br>S Nehwal:S Jaquet:21-11,21-12\n",
    "<br>Nozomi Okuhara:S Nehwal:12-21,21-17,21-10\n",
    "<br>Nozomi Okuhara:P. V. Sindhu:21-19,20-22,22-20"
   ]
  },
  {
   "cell_type": "code",
   "execution_count": 1,
   "metadata": {},
   "outputs": [],
   "source": [
    "match_details = [\n",
    "\"P. V. Sindhu:Kim H-m:21-16,21-14\",\n",
    "\"P. V. Sindhu:Cheung N Y:19-21,23-21,21-17\",\n",
    "\"S Nehwal:S Jaquet:21-11,21-12\",\n",
    "\"Nozomi Okuhara:S Nehwal:12-21,21-17,21-10\",\n",
    "\"Nozomi Okuhara:P. V. Sindhu:21-19,20-22,22-20\"\n",
    "]"
   ]
  },
  {
   "cell_type": "code",
   "execution_count": 2,
   "metadata": {},
   "outputs": [
    {
     "name": "stdout",
     "output_type": "stream",
     "text": [
      "Object `import` not found.\n"
     ]
    }
   ],
   "source": [
    "??import"
   ]
  },
  {
   "cell_type": "code",
   "execution_count": 3,
   "metadata": {},
   "outputs": [
    {
     "data": {
      "text/plain": [
       "['P. V. Sindhu:Kim H-m:21-16,21-14',\n",
       " 'P. V. Sindhu:Cheung N Y:19-21,23-21,21-17',\n",
       " 'S Nehwal:S Jaquet:21-11,21-12',\n",
       " 'Nozomi Okuhara:S Nehwal:12-21,21-17,21-10',\n",
       " 'Nozomi Okuhara:P. V. Sindhu:21-19,20-22,22-20']"
      ]
     },
     "execution_count": 3,
     "metadata": {},
     "output_type": "execute_result"
    }
   ],
   "source": [
    "match_details"
   ]
  },
  {
   "cell_type": "markdown",
   "metadata": {},
   "source": [
    "**Step 1 : Reading the input.**\n",
    "\n",
    "You have to do three things here:\n",
    ">1. Create a set of all the names, name it as *players*.\n",
    ">2. Create a dictionary with keys as \"Winner\", \"Loser\" and \"Matches\" and their values would be winner, loser and the matches ('12-21,21-17,21-10') respectively.\n",
    ">3. The dictionary that you create in previous step is for one match, you need to create a list of these dictionaries for all matches. Name the list as *match_details_combined*. "
   ]
  },
  {
   "cell_type": "code",
   "execution_count": 4,
   "metadata": {},
   "outputs": [],
   "source": [
    "#1. Create a set of all the names, name it as players.\n",
    "Player_names = set({})"
   ]
  },
  {
   "cell_type": "code",
   "execution_count": 5,
   "metadata": {},
   "outputs": [
    {
     "name": "stdout",
     "output_type": "stream",
     "text": [
      "{'Nozomi Okuhara', 'Kim H-m', 'P. V. Sindhu', 'S Jaquet', 'Cheung N Y', 'S Nehwal'}\n"
     ]
    }
   ],
   "source": [
    "for line in match_details:\n",
    "    line_split = line.split(':')\n",
    "    name1 = line_split[0]\n",
    "    name2 = line_split[1]\n",
    "    Player_names.add(name1)\n",
    "    Player_names.add(name2)\n",
    "print(str(Player_names))"
   ]
  },
  {
   "cell_type": "code",
   "execution_count": 6,
   "metadata": {},
   "outputs": [
    {
     "name": "stdout",
     "output_type": "stream",
     "text": [
      "{'Winner': 'P. V. Sindhu', 'Looser': 'Kim H-m', 'Score': '21-16,21-14'}\n",
      "{'Winner': 'P. V. Sindhu', 'Looser': 'Cheung N Y', 'Score': '19-21,23-21,21-17'}\n",
      "{'Winner': 'S Nehwal', 'Looser': 'S Jaquet', 'Score': '21-11,21-12'}\n",
      "{'Winner': 'Nozomi Okuhara', 'Looser': 'S Nehwal', 'Score': '12-21,21-17,21-10'}\n",
      "{'Winner': 'Nozomi Okuhara', 'Looser': 'P. V. Sindhu', 'Score': '21-19,20-22,22-20'}\n"
     ]
    }
   ],
   "source": [
    "#2 Create a dictionary with keys as \"Winner\", \"Loser\" and \"Matches\" and their values would be winner, loser and the matches ('12-21,21-17,21-10') respectively.\n",
    "namescores = {}\n",
    "for line in match_details:\n",
    "    line_split = line.split(':')\n",
    "    name1 = line_split[0]\n",
    "    name2 = line_split[1]\n",
    "    namescores['Winner'] = name1\n",
    "    namescores['Looser'] = name2\n",
    "    namescores['Score'] = line_split[2]\n",
    "    print(str(namescores))\n",
    "#print(str(namescores))"
   ]
  },
  {
   "cell_type": "code",
   "execution_count": 7,
   "metadata": {},
   "outputs": [
    {
     "name": "stdout",
     "output_type": "stream",
     "text": [
      "{'P. V. Sindhu': {'SW': 0, 'GW': 0, 'SL': 0, 'GL': 0}, 'Kim H-m': {'SW': 0, 'GW': 0, 'SL': 0, 'GL': 0}, 'Cheung N Y': {'SW': 0, 'GW': 0, 'SL': 0, 'GL': 0}, 'S Nehwal': {'SW': 0, 'GW': 0, 'SL': 0, 'GL': 0}, 'S Jaquet': {'SW': 0, 'GW': 0, 'SL': 0, 'GL': 0}, 'Nozomi Okuhara': {'SW': 0, 'GW': 0, 'SL': 0, 'GL': 0}}\n"
     ]
    }
   ],
   "source": [
    "#3. The dictionary that you create in previous step is for one match, you need to create a list of these dictionaries for all matches. Name the list as match_details_combined.\n",
    "player_details = {}\n",
    "for line in match_details:\n",
    "    line_split = line.split(':')\n",
    "    name1 = line_split[0]\n",
    "    name2 = line_split[1]\n",
    "    player_details[name1] = {}\n",
    "    player_details[name2] = {}\n",
    "    player_details[name1]['SW'] = 0\n",
    "    player_details[name1]['GW'] = 0\n",
    "    player_details[name1]['SL'] = 0\n",
    "    player_details[name1]['GL'] = 0\n",
    "    player_details[name2]['SW'] = 0\n",
    "    player_details[name2]['GW'] = 0\n",
    "    player_details[name2]['SL'] = 0\n",
    "    player_details[name2]['GL'] = 0\n",
    "    \n",
    "print(str(player_details))"
   ]
  },
  {
   "cell_type": "markdown",
   "metadata": {},
   "source": [
    "Now you have created a list of dictionaries of all matches. \n",
    "<br> The structure obtained is now more accessible and readable."
   ]
  },
  {
   "cell_type": "markdown",
   "metadata": {},
   "source": [
    "Before moving on to the further steps our final dictionary should look like this:\n",
    "\n",
    "`    \n",
    "player_n_details = {\"player_name\" : {\"SW\" : no. of sets won, \"GW\" : no. of games won, \"SL\" : no. of sets lost, \"GL\" : no. of games lost}}\n",
    "`\n",
    "<font color=red>Expected Output: </font>\n",
    "<br>For Cheung N Y, your player_n_details dictionary would look like this: \n",
    "<br>{'Cheung N Y': {'GL': 0, 'GW': 0, 'SL': 0, 'SW': 0}}\n",
    "\n",
    "*player_n_details* is the detail of nth player, we need details of all players together. For that you can use any data structure of your choice. We have used dictionary here. Name it as *player_details*.\n",
    "\n",
    "In the upcoming steps, we will start filling these attributes i.e. SW,GW,SL,GL one by one for each player and then display the output in the required format."
   ]
  },
  {
   "cell_type": "markdown",
   "metadata": {},
   "source": [
    "In the following cells, your have to create *player_n_details* as shown above and assign SW,GW,SL,GL to 0.\n",
    "<br> Then combine all *player_n_details* to form *player_details*"
   ]
  },
  {
   "cell_type": "markdown",
   "metadata": {},
   "source": [
    "Now your final dictionary for each player is ready.\n",
    "<br> The only task left is to fill in the values for each attribute i.e GW,GL,SL,SW"
   ]
  },
  {
   "cell_type": "markdown",
   "metadata": {},
   "source": [
    "**Step 2 : Calculating the games won**\n",
    "\n",
    "Now that your *player_details* dictionary is ready further work will be easier.\n",
    "Finding games won attribute and games lost the easiest of all four attributes.\n",
    "\n",
    "So how do we go about it?\n",
    "<br> We will go over all the winners for the corresponding *GW* entry of the winner we will assign as 1, no need to do anything for losers as their *GW* was already set to 0."
   ]
  },
  {
   "cell_type": "code",
   "execution_count": 8,
   "metadata": {},
   "outputs": [
    {
     "name": "stdout",
     "output_type": "stream",
     "text": [
      "{'P. V. Sindhu': {'SW': 0, 'GW': 2, 'SL': 0, 'GL': 0}, 'Kim H-m': {'SW': 0, 'GW': 0, 'SL': 0, 'GL': 0}, 'Cheung N Y': {'SW': 0, 'GW': 0, 'SL': 0, 'GL': 0}, 'S Nehwal': {'SW': 0, 'GW': 1, 'SL': 0, 'GL': 0}, 'S Jaquet': {'SW': 0, 'GW': 0, 'SL': 0, 'GL': 0}, 'Nozomi Okuhara': {'SW': 0, 'GW': 2, 'SL': 0, 'GL': 0}}\n"
     ]
    }
   ],
   "source": [
    "for line in match_details:\n",
    "    line_split = line.split(':')\n",
    "    name1 = line_split[0]\n",
    "    name2 = line_split[1]\n",
    "    scores = line_split[2]\n",
    "    score_pairs = scores.split(',')\n",
    "    #name1_3set_won = 0\n",
    "  #  name1_5set_won = 0\n",
    "   # name2_3set_won = 0\n",
    "   # name2_5set_won = 0\n",
    "    player_details[name1]['GW'] = int(player_details[name1]['GW'])+1\n",
    "    player_details[name2]['GW'] = int(player_details[name2]['GW'])+ 0     \n",
    "print(player_details)"
   ]
  },
  {
   "cell_type": "markdown",
   "metadata": {},
   "source": [
    "**Step 3 : Calculating the games lost**\n",
    "\n",
    "This one is very similar to the previous step that is why, we won't give out the method to this one.\n",
    "<br> Go Ahead. Crack this yourself."
   ]
  },
  {
   "cell_type": "code",
   "execution_count": 9,
   "metadata": {
    "scrolled": true
   },
   "outputs": [
    {
     "name": "stdout",
     "output_type": "stream",
     "text": [
      "{'P. V. Sindhu': {'SW': 0, 'GW': 2, 'SL': 0, 'GL': 2}, 'Kim H-m': {'SW': 0, 'GW': 0, 'SL': 0, 'GL': 0}, 'Cheung N Y': {'SW': 0, 'GW': 0, 'SL': 0, 'GL': 0}, 'S Nehwal': {'SW': 0, 'GW': 1, 'SL': 0, 'GL': 1}, 'S Jaquet': {'SW': 0, 'GW': 0, 'SL': 0, 'GL': 0}, 'Nozomi Okuhara': {'SW': 0, 'GW': 2, 'SL': 0, 'GL': 2}}\n"
     ]
    }
   ],
   "source": [
    "for line in match_details:\n",
    "    line_split = line.split(':')\n",
    "    name1 = line_split[0]\n",
    "    name2 = line_split[1]\n",
    "    scores = line_split[2]\n",
    "    score_pairs = scores.split(',')\n",
    "    #name1_3set_won = 0\n",
    "  #  name1_5set_won = 0\n",
    "   # name2_3set_won = 0\n",
    "   # name2_5set_won = 0\n",
    "    player_details[name1]['GL'] = int(player_details[name1]['GL'])+1\n",
    "    player_details[name2]['GL'] = int(player_details[name2]['GL'])+ 0     \n",
    "print(player_details)"
   ]
  },
  {
   "cell_type": "markdown",
   "metadata": {},
   "source": [
    "**Step 4 : Splitting Matches in *match_details_combined***\n",
    "\n",
    "Now before entering into calculations for sets won and sets lost.\n",
    "<br> Lets make a few changes to match_details dictionary.\n",
    "<br> Split the value \"Matches\" in match_details into a list of separate matches. \n",
    "<br> It should look something like this :\n",
    "<br> \"21-13,20-21\" -> [[21,13],[20,21]] \n",
    "<br> ** Make sure when you split, that the resultant numbers are integers (use type casting)**"
   ]
  },
  {
   "cell_type": "code",
   "execution_count": 10,
   "metadata": {},
   "outputs": [
    {
     "data": {
      "text/plain": [
       "['P. V. Sindhu:Kim H-m:21-16,21-14',\n",
       " 'P. V. Sindhu:Cheung N Y:19-21,23-21,21-17',\n",
       " 'S Nehwal:S Jaquet:21-11,21-12',\n",
       " 'Nozomi Okuhara:S Nehwal:12-21,21-17,21-10',\n",
       " 'Nozomi Okuhara:P. V. Sindhu:21-19,20-22,22-20']"
      ]
     },
     "execution_count": 10,
     "metadata": {},
     "output_type": "execute_result"
    }
   ],
   "source": [
    "match_details"
   ]
  },
  {
   "cell_type": "code",
   "execution_count": 11,
   "metadata": {},
   "outputs": [
    {
     "name": "stdout",
     "output_type": "stream",
     "text": [
      "[[['21', '16'], ['21', '14']], [['19', '21'], ['23', '21'], ['21', '17']], [['21', '11'], ['21', '12']], [['12', '21'], ['21', '17'], ['21', '10']], [['21', '19'], ['20', '22'], ['22', '20']]]\n"
     ]
    }
   ],
   "source": [
    "score_pair_split = []\n",
    "for line in match_details:\n",
    "    score_pair_split_temp = []\n",
    "    line_split = line.split(':')\n",
    "    name1 = line_split[0]\n",
    "    name2 = line_split[1]\n",
    "    scores = line_split[2]\n",
    "    score_pairs = scores.split(',')\n",
    "    for score_pair in score_pairs:  \n",
    "          score_pair_split_temp.append(score_pair.split('-'))\n",
    "    score_pair_split.append(score_pair_split_temp)   \n",
    "print(score_pair_split)"
   ]
  },
  {
   "cell_type": "markdown",
   "metadata": {},
   "source": [
    "**Step 5 : Calculating the sets won and sets lost**\n",
    "\n",
    "This is a bit difficult as compared to the previous steps.\n",
    "<br> We iterate over all players.\n",
    "<br> For each player:\n",
    "><br> 1.If the player is winner of match and then compare the elements in the list. \n",
    "<br> For eg. [[21,13],[20,21]], the winner of the match has one first set.\n",
    "<br> Increase the SW of that player by one.\n",
    "<br> Also, he has lost second set in the match.\n",
    "<br> Increase the SL of that player by one.\n",
    " \n",
    ">2.If the player is loser of match and then compare the elements in the list. \n",
    "<br> For eg. [[21,13],[20,21]], the loser of the match has one second set.\n",
    "<br> Increase the SW of that player by one.\n",
    "<br> Also, he has lost first set in the match.\n",
    "<br> Increase the SL of that player by one."
   ]
  },
  {
   "cell_type": "code",
   "execution_count": 12,
   "metadata": {},
   "outputs": [
    {
     "name": "stdout",
     "output_type": "stream",
     "text": [
      "{'P. V. Sindhu': {'SW': 0, 'GW': 0, 'SL': 0, 'GL': 0}, 'Kim H-m': {'SW': 0, 'GW': 0, 'SL': 0, 'GL': 0}, 'Cheung N Y': {'SW': 0, 'GW': 0, 'SL': 0, 'GL': 0}, 'S Nehwal': {'SW': 0, 'GW': 0, 'SL': 0, 'GL': 0}, 'S Jaquet': {'SW': 0, 'GW': 0, 'SL': 0, 'GL': 0}, 'Nozomi Okuhara': {'SW': 0, 'GW': 0, 'SL': 0, 'GL': 0}}\n"
     ]
    }
   ],
   "source": [
    "player_details = {}\n",
    "for line in match_details:\n",
    "    line_split = line.split(':')\n",
    "    name1 = line_split[0]\n",
    "    name2 = line_split[1]\n",
    "    player_details[name1] = {}\n",
    "    player_details[name2] = {}\n",
    "    player_details[name1]['SW'] = 0\n",
    "    player_details[name1]['GW'] = 0\n",
    "    player_details[name1]['SL'] = 0\n",
    "    player_details[name1]['GL'] = 0\n",
    "    player_details[name2]['SW'] = 0\n",
    "    player_details[name2]['GW'] = 0\n",
    "    player_details[name2]['SL'] = 0\n",
    "    player_details[name2]['GL'] = 0\n",
    "    \n",
    "print(str(player_details))"
   ]
  },
  {
   "cell_type": "code",
   "execution_count": 13,
   "metadata": {},
   "outputs": [
    {
     "name": "stdout",
     "output_type": "stream",
     "text": [
      "{'P. V. Sindhu': {'SW': 5, 'GW': 2, 'SL': 3, 'GL': 1}, 'Kim H-m': {'SW': 0, 'GW': 0, 'SL': 2, 'GL': 1}, 'Cheung N Y': {'SW': 1, 'GW': 0, 'SL': 2, 'GL': 1}, 'S Nehwal': {'SW': 3, 'GW': 1, 'SL': 2, 'GL': 1}, 'S Jaquet': {'SW': 0, 'GW': 0, 'SL': 2, 'GL': 1}, 'Nozomi Okuhara': {'SW': 4, 'GW': 2, 'SL': 2, 'GL': 0}}\n"
     ]
    }
   ],
   "source": [
    "for line in match_details:\n",
    "    line_split = line.split(':')\n",
    "    name1 = line_split[0]\n",
    "    name2 = line_split[1]\n",
    "    scores = line_split[2]\n",
    "    score_pairs = scores.split(',')\n",
    "    player_details[name1]['GW'] = int(player_details[name1]['GW'])+1\n",
    "    player_details[name1]['GL'] = int(player_details[name1]['GL'])+0\n",
    "    player_details[name2]['GW'] = int(player_details[name2]['GW'])+ 0 \n",
    "    player_details[name2]['GL'] = int(player_details[name2]['GL'])+1\n",
    "    \n",
    "    for score_pair in score_pairs:\n",
    "        \n",
    "        score_pair_split = score_pair.split('-')\n",
    "        if (len(score_pairs)>3 and len(score_pairs)<=5 and (int(score_pair_split[0]) >=6 or int(score_pair_split[1]) >=6)):\n",
    "                    \n",
    "                    if int(score_pair_split[0])>int(score_pair_split[1]):\n",
    "                        player_details[name1]['SW'] = int(player_details[name1]['SW'])+1\n",
    "                        player_details[name2]['SL'] = int(player_details[name2]['SL'])+1\n",
    "                       \n",
    "                        \n",
    "                    elif int(score_pair_split[0])<int(score_pair_split[1]):\n",
    "                        player_details[name1]['SL'] = int(player_details[name1]['SL'])+1\n",
    "                        player_details[name2]['SW'] = int(player_details[name2]['SW'])+1\n",
    "                    \n",
    "                        \n",
    "        elif (len(score_pairs)<=3 and (int(score_pair_split[0]) >=6 or int(score_pair_split[1]) >=6)):\n",
    "\n",
    "                    if int(score_pair_split[0])>int(score_pair_split[1]):\n",
    "                        player_details[name1]['SW'] = int(player_details[name1]['SW'])+1\n",
    "                        player_details[name2]['SL'] = int(player_details[name2]['SL'])+1\n",
    "                        \n",
    "                    elif int(score_pair_split[0])<int(score_pair_split[1]):\n",
    "                        player_details[name1]['SL'] = int(player_details[name1]['SL'])+1\n",
    "                        player_details[name2]['SW'] = int(player_details[name2]['SW'])+1\n",
    "print(player_details)"
   ]
  },
  {
   "cell_type": "markdown",
   "metadata": {},
   "source": [
    "**Step 6 : Formatting the output in required form**\n",
    "\n",
    "In this step you have to format and print the output in the exact form as shown in the sample test cases and you can verify your answer with the expected output given below."
   ]
  },
  {
   "cell_type": "code",
   "execution_count": 14,
   "metadata": {},
   "outputs": [],
   "source": [
    "import pandas as pd"
   ]
  },
  {
   "cell_type": "code",
   "execution_count": 15,
   "metadata": {},
   "outputs": [],
   "source": [
    "Expected_Output = pd.DataFrame(player_details).T.reset_index().rename(columns = {'index':'Player name'})"
   ]
  },
  {
   "cell_type": "code",
   "execution_count": 16,
   "metadata": {},
   "outputs": [
    {
     "data": {
      "text/html": [
       "<div>\n",
       "<style scoped>\n",
       "    .dataframe tbody tr th:only-of-type {\n",
       "        vertical-align: middle;\n",
       "    }\n",
       "\n",
       "    .dataframe tbody tr th {\n",
       "        vertical-align: top;\n",
       "    }\n",
       "\n",
       "    .dataframe thead th {\n",
       "        text-align: right;\n",
       "    }\n",
       "</style>\n",
       "<table border=\"1\" class=\"dataframe\">\n",
       "  <thead>\n",
       "    <tr style=\"text-align: right;\">\n",
       "      <th></th>\n",
       "      <th>Player name</th>\n",
       "      <th>SW</th>\n",
       "      <th>GW</th>\n",
       "      <th>SL</th>\n",
       "      <th>GL</th>\n",
       "    </tr>\n",
       "  </thead>\n",
       "  <tbody>\n",
       "    <tr>\n",
       "      <th>0</th>\n",
       "      <td>P. V. Sindhu</td>\n",
       "      <td>5</td>\n",
       "      <td>2</td>\n",
       "      <td>3</td>\n",
       "      <td>1</td>\n",
       "    </tr>\n",
       "    <tr>\n",
       "      <th>1</th>\n",
       "      <td>Kim H-m</td>\n",
       "      <td>0</td>\n",
       "      <td>0</td>\n",
       "      <td>2</td>\n",
       "      <td>1</td>\n",
       "    </tr>\n",
       "    <tr>\n",
       "      <th>2</th>\n",
       "      <td>Cheung N Y</td>\n",
       "      <td>1</td>\n",
       "      <td>0</td>\n",
       "      <td>2</td>\n",
       "      <td>1</td>\n",
       "    </tr>\n",
       "    <tr>\n",
       "      <th>3</th>\n",
       "      <td>S Nehwal</td>\n",
       "      <td>3</td>\n",
       "      <td>1</td>\n",
       "      <td>2</td>\n",
       "      <td>1</td>\n",
       "    </tr>\n",
       "    <tr>\n",
       "      <th>4</th>\n",
       "      <td>S Jaquet</td>\n",
       "      <td>0</td>\n",
       "      <td>0</td>\n",
       "      <td>2</td>\n",
       "      <td>1</td>\n",
       "    </tr>\n",
       "  </tbody>\n",
       "</table>\n",
       "</div>"
      ],
      "text/plain": [
       "    Player name  SW  GW  SL  GL\n",
       "0  P. V. Sindhu   5   2   3   1\n",
       "1       Kim H-m   0   0   2   1\n",
       "2    Cheung N Y   1   0   2   1\n",
       "3      S Nehwal   3   1   2   1\n",
       "4      S Jaquet   0   0   2   1"
      ]
     },
     "execution_count": 16,
     "metadata": {},
     "output_type": "execute_result"
    }
   ],
   "source": [
    "Expected_Output.head()"
   ]
  },
  {
   "cell_type": "code",
   "execution_count": 17,
   "metadata": {},
   "outputs": [
    {
     "data": {
      "text/html": [
       "<div>\n",
       "<style scoped>\n",
       "    .dataframe tbody tr th:only-of-type {\n",
       "        vertical-align: middle;\n",
       "    }\n",
       "\n",
       "    .dataframe tbody tr th {\n",
       "        vertical-align: top;\n",
       "    }\n",
       "\n",
       "    .dataframe thead th {\n",
       "        text-align: right;\n",
       "    }\n",
       "</style>\n",
       "<table border=\"1\" class=\"dataframe\">\n",
       "  <thead>\n",
       "    <tr style=\"text-align: right;\">\n",
       "      <th></th>\n",
       "      <th>Player name</th>\n",
       "      <th>SW</th>\n",
       "      <th>GW</th>\n",
       "      <th>SL</th>\n",
       "      <th>GL</th>\n",
       "    </tr>\n",
       "  </thead>\n",
       "  <tbody>\n",
       "    <tr>\n",
       "      <th>2</th>\n",
       "      <td>Cheung N Y</td>\n",
       "      <td>1</td>\n",
       "      <td>0</td>\n",
       "      <td>2</td>\n",
       "      <td>1</td>\n",
       "    </tr>\n",
       "    <tr>\n",
       "      <th>1</th>\n",
       "      <td>Kim H-m</td>\n",
       "      <td>0</td>\n",
       "      <td>0</td>\n",
       "      <td>2</td>\n",
       "      <td>1</td>\n",
       "    </tr>\n",
       "    <tr>\n",
       "      <th>5</th>\n",
       "      <td>Nozomi Okuhara</td>\n",
       "      <td>4</td>\n",
       "      <td>2</td>\n",
       "      <td>2</td>\n",
       "      <td>0</td>\n",
       "    </tr>\n",
       "    <tr>\n",
       "      <th>0</th>\n",
       "      <td>P. V. Sindhu</td>\n",
       "      <td>5</td>\n",
       "      <td>2</td>\n",
       "      <td>3</td>\n",
       "      <td>1</td>\n",
       "    </tr>\n",
       "    <tr>\n",
       "      <th>4</th>\n",
       "      <td>S Jaquet</td>\n",
       "      <td>0</td>\n",
       "      <td>0</td>\n",
       "      <td>2</td>\n",
       "      <td>1</td>\n",
       "    </tr>\n",
       "    <tr>\n",
       "      <th>3</th>\n",
       "      <td>S Nehwal</td>\n",
       "      <td>3</td>\n",
       "      <td>1</td>\n",
       "      <td>2</td>\n",
       "      <td>1</td>\n",
       "    </tr>\n",
       "  </tbody>\n",
       "</table>\n",
       "</div>"
      ],
      "text/plain": [
       "      Player name  SW  GW  SL  GL\n",
       "2      Cheung N Y   1   0   2   1\n",
       "1         Kim H-m   0   0   2   1\n",
       "5  Nozomi Okuhara   4   2   2   0\n",
       "0    P. V. Sindhu   5   2   3   1\n",
       "4        S Jaquet   0   0   2   1\n",
       "3        S Nehwal   3   1   2   1"
      ]
     },
     "execution_count": 17,
     "metadata": {},
     "output_type": "execute_result"
    }
   ],
   "source": [
    "Expected_Output.sort_values('Player name')"
   ]
  },
  {
   "cell_type": "markdown",
   "metadata": {},
   "source": [
    "<font color=red>Expected Output: </font>\n",
    "\n",
    "<table style = \"text-align: left;width:50%\">\n",
    "    <tr>\n",
    "        <th>\n",
    "            Player name\n",
    "        </th>\n",
    "        <th>\n",
    "            SW\n",
    "        </th>\n",
    "        <th>\n",
    "            GW\n",
    "        </th>\n",
    "        <th>\n",
    "            SL\n",
    "        </th>\n",
    "        <th>\n",
    "            GL\n",
    "        </th>\n",
    "    </tr>\n",
    "  <tr>\n",
    "    <td>**Cheung N Y**</td>\n",
    "    <td>1</td>\n",
    "    <td>0</td>\n",
    "    <td>2</td>\n",
    "    <td>1</td>\n",
    "  </tr>\n",
    "  <tr>\n",
    "     <td>**P. V. Sindhu**</td>\n",
    "     <td>5</td>\n",
    "     <td>2</td>\n",
    "     <td>3</td>\n",
    "     <td>1</td>\n",
    "  </tr>  \n",
    "  <tr>\n",
    "  <td>**S Nehwal**</td>\n",
    "  <td>3</td>\n",
    "    <td>1</td>\n",
    "    <td>2</td>\n",
    "    <td>1</td>\n",
    "   </tr> \n",
    "   <tr>\n",
    "  <td>**Kim H-m**</td>\n",
    "    <td>0</td>\n",
    "    <td>0</td>\n",
    "    <td>2</td>\n",
    "    <td>1</td>\n",
    "   </tr> \n",
    "   <tr>\n",
    "  <td>**Nozomi Okuhara**</td>\n",
    "    <td>4</td>\n",
    "    <td>2</td>\n",
    "    <td>2</td>\n",
    "    <td>0</td>\n",
    "  </tr>  \n",
    "  <tr>\n",
    "  <td>**S Jaquet**</td>\n",
    "    <td>0</td>\n",
    "    <td>0</td>\n",
    "    <td>2</td>\n",
    "    <td>1</td>\n",
    "  </tr>\n",
    "</table>"
   ]
  },
  {
   "cell_type": "code",
   "execution_count": 76,
   "metadata": {},
   "outputs": [
    {
     "name": "stdout",
     "output_type": "stream",
     "text": [
      "{'P. V. Sindhu': {'SW': 5, 'GW': 4, 'SL': 3, 'GL': 3}, 'Kim H-m': {'SW': 0, 'GW': 0, 'SL': 2, 'GL': 1}, 'Cheung N Y': {'SW': 1, 'GW': 0, 'SL': 2, 'GL': 1}, 'S Nehwal': {'SW': 3, 'GW': 2, 'SL': 2, 'GL': 2}, 'S Jaquet': {'SW': 0, 'GW': 0, 'SL': 2, 'GL': 1}, 'Nozomi Okuhara': {'SW': 4, 'GW': 4, 'SL': 2, 'GL': 2}}\n"
     ]
    }
   ],
   "source": [
    "for line in match_details:\n",
    "    line_split = line.split(':')\n",
    "    name1 = line_split[0]\n",
    "    name2 = line_split[1]\n",
    "    scores = line_split[2]\n",
    "    score_pairs = scores.split(',')\n",
    "    #name1_3set_won = 0\n",
    "  #  name1_5set_won = 0\n",
    "   # name2_3set_won = 0\n",
    "   # name2_5set_won = 0\n",
    "    player_details[name1]['GW'] = int(player_details[name1]['GW'])+1\n",
    "    player_details[name1]['GL'] = int(player_details[name1]['GL'])+0\n",
    "    player_details[name2]['GW'] = int(player_details[name2]['GW'])+ 0 \n",
    "    player_details[name2]['GL'] = int(player_details[name2]['GL'])+1\n",
    "    \n",
    "    for score_pair in score_pairs:\n",
    "        \n",
    "        score_pair_split = score_pair.split('-')\n",
    "        if (len(score_pairs)>3 and len(score_pairs)<=5 and (int(score_pair_split[0]) >=6 or int(score_pair_split[1]) >=6)):\n",
    "                    \n",
    "                    if int(score_pair_split[0])>int(score_pair_split[1]):\n",
    "                        player_details[name1]['SW'] = int(player_details[name1]['SW'])+1\n",
    "                        player_details[name2]['SL'] = int(player_details[name2]['SL'])+1\n",
    "                        #name1_5set_won += 1\n",
    "                        \n",
    "                    elif int(score_pair_split[0])<int(score_pair_split[1]):\n",
    "                        player_details[name1]['SL'] = int(player_details[name1]['SL'])+1\n",
    "                        player_details[name2]['SW'] = int(player_details[name2]['SW'])+1\n",
    "                     #   name2_5set_won += 1\n",
    "                        \n",
    "        elif (len(score_pairs)<=3 and (int(score_pair_split[0]) >=6 or int(score_pair_split[1]) >=6)):\n",
    "\n",
    "                    if int(score_pair_split[0])>int(score_pair_split[1]):\n",
    "                        player_details[name1]['SW'] = int(player_details[name1]['SW'])+1\n",
    "                        player_details[name2]['SL'] = int(player_details[name2]['SL'])+1\n",
    "                        \n",
    "                    elif int(score_pair_split[0])<int(score_pair_split[1]):\n",
    "                        player_details[name1]['SL'] = int(player_details[name1]['SL'])+1\n",
    "                        player_details[name2]['SW'] = int(player_details[name2]['SW'])+1\n",
    "print(player_details)"
   ]
  }
 ],
 "metadata": {
  "kernelspec": {
   "display_name": "Python 3 (ipykernel)",
   "language": "python",
   "name": "python3"
  },
  "language_info": {
   "codemirror_mode": {
    "name": "ipython",
    "version": 3
   },
   "file_extension": ".py",
   "mimetype": "text/x-python",
   "name": "python",
   "nbconvert_exporter": "python",
   "pygments_lexer": "ipython3",
   "version": "3.9.7"
  }
 },
 "nbformat": 4,
 "nbformat_minor": 2
}
